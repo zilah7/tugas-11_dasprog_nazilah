{
 "cells": [
  {
   "cell_type": "raw",
   "id": "b7b84b89-24ec-4c78-ae1d-3e8a95e3da00",
   "metadata": {},
   "source": [
    "PENGERTIAN\n",
    "\n",
    "1.Fungsi pada python adalah kumpulan perintah atau baris kode yang dikelompokan menjadi satu kesatuan untuk kemudian bisa dipanggil atau digunakan berkali kali.\n",
    "2.Sebuah fungsi dapat menerima parameter, dapat mengembalikan suatu nilai, dan dapat dipanggil berkali kali secara independen."
   ]
  },
  {
   "cell_type": "raw",
   "id": "73631da4-5b60-451a-807d-f7766c861027",
   "metadata": {},
   "source": [
    "KEUNTUNGAN\n",
    "\n",
    "1.Membagi kode program menjadi bagian bagian kecil dengan tugasnya masing masing.\n",
    "2.Membuat kode program menjadi lebih \"reusable\" dan lebih terstruktur."
   ]
  },
  {
   "cell_type": "code",
   "execution_count": null,
   "id": "28555519-991e-45d0-a3a5-f633be828359",
   "metadata": {},
   "outputs": [],
   "source": [
    "SINTAKS\n",
    "\n",
    "def function_name():\n",
    "    logic program\n",
    "Cara memanggil fungsi dengan menuliskan function_name diikuti kurung buka () beserta parameter jika ada\n",
    "\n",
    "function_name()"
   ]
  },
  {
   "cell_type": "code",
   "execution_count": null,
   "id": "2cc99c86-d7e6-48a9-a6ed-223925c7b0f3",
   "metadata": {},
   "outputs": [],
   "source": [
    "def helloPython():\n",
    "  print('Welcome in Python Language')\n",
    "helloPython()"
   ]
  },
  {
   "cell_type": "code",
   "execution_count": null,
   "id": "062b6e23-67af-4a55-b7fa-545b4ce91f29",
   "metadata": {},
   "outputs": [],
   "source": [
    "FUNGSI DENGAN PARAMETER\n",
    "\n",
    "Sebuah fungsi dapat menrima parameter ataupun argumen yang merupakan suatu nilai/variabel yang dilemparkan kedalam fungsi untuk diproses lebih lanjut.\n",
    "\n",
    "SINTAKS\n",
    "\n",
    " def function_name(param):\n",
    "    logic program\n",
    "Cara memanggil fungsi dengan menuliskan function_name diikuti kurung buka tutup() beserta parameter\n",
    "\n",
    " function_name(param)"
   ]
  },
  {
   "cell_type": "markdown",
   "id": "f9535c4f-bf1e-43f9-b267-7632176d7e2a",
   "metadata": {},
   "source": [
    "Buatlah fungsi dengan nama \"FullName\" yang mempunyai parameter \"firstname\" dan \"lastname\" digunakan untuk mencetak \"firstname\" dan \"lastname\"\n"
   ]
  },
  {
   "cell_type": "code",
   "execution_count": null,
   "id": "27188fb2-d1d1-4b40-ba8d-68ccd295cdc3",
   "metadata": {},
   "outputs": [],
   "source": [
    "def FullName(Firstname, lastname):\n",
    "    print(firstname, lastname)"
   ]
  },
  {
   "cell_type": "code",
   "execution_count": null,
   "id": "3bd79ebe-fc1f-4e31-8c9f-af35c8f1ad28",
   "metadata": {},
   "outputs": [],
   "source": [
    "Parameter fungsi diprbolehkan menggunakan lebih dari 1,dimana parameter tersebut ada yang wajib harus diisi dan ada yang tidak harus diisi\n",
    "\n",
    "def function_name(param_1, param_2, param_3,....):\n",
    "    logic program\n",
    "\n",
    "Cara memanggil fungsi dengan menuliskan \n",
    "function_name diikuti kurung buka () beserta parameter\n",
    "\n",
    "function_name(param_1, param_2, param_3)\n"
   ]
  },
  {
   "cell_type": "markdown",
   "id": "35a27177-ed04-435a-90c2-832c6d6fc1d5",
   "metadata": {},
   "source": [
    "Buatlah fungsi dengan nama maxValue yang mempunyai parameter \"val_1\",\"val_2\" dan \"val_3\" yang bertujuan untuk mencari nilai terbesar dari 3 nilai tersebut"
   ]
  },
  {
   "cell_type": "code",
   "execution_count": 1,
   "id": "bfc7752d-2144-4dce-afa5-339fa4f2f235",
   "metadata": {},
   "outputs": [
    {
     "data": {
      "text/plain": [
       "3"
      ]
     },
     "execution_count": 1,
     "metadata": {},
     "output_type": "execute_result"
    }
   ],
   "source": [
    "def maxValue(val_1, val_2, val_3):\n",
    "    list = [val_1, val_2, val_3]\n",
    "    return max(list)\n",
    "maxValue(1, 2 ,3)\n"
   ]
  },
  {
   "cell_type": "code",
   "execution_count": null,
   "id": "2a583f5a-cbf2-43d3-a342-b9ee396b1bd5",
   "metadata": {},
   "outputs": [],
   "source": [
    "Parameter opsional digunakan pada fungsi dengan cara memberikan nilai default,\n",
    "artinya nilai parameter sudah diberikan terlebih dahulu tanpa dipanggil\n",
    "\n",
    "def function_name(param_1, param_2, param_3 = 'Nilai'):\n",
    "    Logic Program\n",
    "\n",
    "Buatlah fungsi \"countCircleArea\" dengan 2 parameter yaitu \"phi\" dan \"diameter\" dimana parameter phi mempunyai nilai default 3.14\n"
   ]
  },
  {
   "cell_type": "code",
   "execution_count": null,
   "id": "04ba01b3-7b5f-454a-b373-0041beaa98a2",
   "metadata": {},
   "outputs": [],
   "source": [
    " def countCircleArea(diameter, phi=3.14):\n",
    "  print(f\"phi : {phi}\\ndiameter : {diameter}\")\n"
   ]
  },
  {
   "cell_type": "code",
   "execution_count": null,
   "id": "1fa84260-5f3c-4cb1-9106-7807c43e7ad5",
   "metadata": {},
   "outputs": [],
   "source": [
    "Fungsi dengan 2 Parameter opsional juga dapat dilakukan pada Python.\n",
    "\n",
    "def info(suhu, daerah='Sukabumi', satuan = 'Celcius'):\n",
    "    print(f\"Suhu sekarang di {daerah} : {suhu} {satuan} \")\n",
    "Adapun Cara memanggilnya\n",
    "\n",
    "info(30)\n"
   ]
  },
  {
   "cell_type": "code",
   "execution_count": null,
   "id": "c2364dd4-5672-4ba3-95e6-3eac7e629ad6",
   "metadata": {},
   "outputs": [],
   "source": [
    "#Cobalah fungsi tersebut pada area kode disini\n",
    "countCircleArea(20)\n",
    " \n",
    "phi  :  3.14\n",
    "diameter  : 20"
   ]
  },
  {
   "cell_type": "markdown",
   "id": "08e667f5-06a3-4508-97a8-19afeeecf463",
   "metadata": {},
   "source": [
    "FUNGSI DENGAN RETURN VALUE\n",
    " \n",
    "Yaitu fungsi dimana akhir programnya adalah nilai kembalian atau nilai balik.\n",
    "Artinya nilai dalam fungsi dapat ditampung lagi ke variabel lain untuk digunakan operasi lebih lanjut.\n",
    "\n",
    "Buatlah fungsi dengan retyrn value yang digunakan untuk mengecek sebuah bilangan termasuk bilangan negatif,\n",
    "bilangan netral(0) dan bilangan positif\n",
    "\n"
   ]
  },
  {
   "cell_type": "code",
   "execution_count": 3,
   "id": "346017ea-1ad9-4e33-8653-1e2e02eb4e29",
   "metadata": {},
   "outputs": [
    {
     "name": "stdout",
     "output_type": "stream",
     "text": [
      "negatif\n"
     ]
    }
   ],
   "source": [
    "def angka(number):\n",
    "    bilangan = ''\n",
    "    if number < 0:\n",
    "        bilangan = 'negatif'\n",
    "    elif number == 0:\n",
    "        bilangan = 'neteral'\n",
    "    else :\n",
    "        bilangan = 'positif'\n",
    "    return bilangan \n",
    "print(angka(-1))\n"
   ]
  },
  {
   "cell_type": "markdown",
   "id": "4f7f7a26-b599-489e-9b7d-1ae75f9134dc",
   "metadata": {},
   "source": [
    "SOAL LATIHAN\n",
    "\n",
    "1.Buatlah fungsi untuk menjumlahkan total nilai dan list\n",
    "2.Buatlah fungsi untuk mencari nilai terbesar dan sejumlah list\n",
    "3.Buatlah fungsi untuk menjumlahkan 2 buah list\n"
   ]
  },
  {
   "cell_type": "code",
   "execution_count": 18,
   "id": "31ed53f0-af68-438e-9d0f-742de118e5e5",
   "metadata": {},
   "outputs": [
    {
     "data": {
      "text/plain": [
       "24"
      ]
     },
     "execution_count": 18,
     "metadata": {},
     "output_type": "execute_result"
    }
   ],
   "source": [
    "#Soal 1\n",
    "angka = [2, 1, 3, 4, 9, 5]\n",
    "def totalValues(angka):\n",
    "  total = 0\n",
    "  for i in range(len(angka)):\n",
    "      total += angka[i]\n",
    "  return total\n",
    "totalValues(angka)"
   ]
  },
  {
   "cell_type": "code",
   "execution_count": 19,
   "id": "7714af00-9ff4-4f4d-9cf0-759c82153822",
   "metadata": {},
   "outputs": [
    {
     "data": {
      "text/plain": [
       "23"
      ]
     },
     "execution_count": 19,
     "metadata": {},
     "output_type": "execute_result"
    }
   ],
   "source": [
    "#Soal 2\n",
    "angka = [23, 12, 11, 12, 20, 4]\n",
    "def maxNumber(angka):\n",
    "  return max(angka)\n",
    "maxNumber(angka)\n"
   ]
  },
  {
   "cell_type": "code",
   "execution_count": 20,
   "id": "d2f40d15-65b8-4b03-a7b4-893069e77b1c",
   "metadata": {},
   "outputs": [
    {
     "data": {
      "text/plain": [
       "['Siti', 'Nazilah', 'Kinaras', 'Julianto']"
      ]
     },
     "execution_count": 20,
     "metadata": {},
     "output_type": "execute_result"
    }
   ],
   "source": [
    "#Soal 3\n",
    "list1 = ['Siti', 'Nazilah', 'Kinaras']\n",
    "list2 = ['Julianto']\n",
    "def mixList (list1, list2):\n",
    "    return list1 + list2\n",
    "mixList(list1,list2)\n"
   ]
  },
  {
   "cell_type": "code",
   "execution_count": null,
   "id": "72c30587-84ef-4fd9-bfa5-f6c8c4b44eec",
   "metadata": {},
   "outputs": [],
   "source": []
  }
 ],
 "metadata": {
  "kernelspec": {
   "display_name": "Python 3 (ipykernel)",
   "language": "python",
   "name": "python3"
  },
  "language_info": {
   "codemirror_mode": {
    "name": "ipython",
    "version": 3
   },
   "file_extension": ".py",
   "mimetype": "text/x-python",
   "name": "python",
   "nbconvert_exporter": "python",
   "pygments_lexer": "ipython3",
   "version": "3.11.7"
  }
 },
 "nbformat": 4,
 "nbformat_minor": 5
}
